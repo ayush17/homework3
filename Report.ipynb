{
 "cells": [
  {
   "cell_type": "markdown",
   "id": "4736d202-5829-4929-bbd0-a1ef8dc89a6e",
   "metadata": {},
   "source": [
    "\n",
    "### Prepared By\n",
    "\n",
    "- Ayush Tiwari \n",
    "- Kanishka Patre \n",
    "- Sinchan Samajdar"
   ]
  },
  {
   "cell_type": "markdown",
   "id": "73c20a66-917e-4c26-95a0-e390ba24a3f5",
   "metadata": {},
   "source": [
    "The below screenshot solution is for Problem 1 \n",
    "As we can see the value of the integral is converging to 1024 and the error is decreasing as we keep on increasing the size of N.\n",
    "\n",
    "Error estimate is calculated following way.\n",
    "\n",
    "Error estimate=|I(4^k)-1024.0|\n",
    "\n",
    "The code can be found in the file \"monteCarlo10d.c\".\n",
    "\n",
    "![Alt Text](./Problem1.png)"
   ]
  },
  {
   "cell_type": "markdown",
   "id": "c0e3eb82-8571-4a8b-84e8-6956ce36b84e",
   "metadata": {},
   "source": [
    "The below screenshot is solution for problem 2\n",
    "\n",
    "a.) We have paralleize the for-loop and also there is evidence of 4 threads running.\n",
    "\n",
    "b.)For the b part we have used omp_get_wtime() at the beginning and end of the program and startingtime is being subtracted by the ending time at the end of the program.The output can be seen in the screenshot \n",
    "\n",
    "omp time is=5.659254 seconds for 4 threads and N=67108864\n",
    "unix_time is=5.665 seconds\n",
    "\n",
    "The code for this problem can be found in \"monteCarlo10dOpenMP.c\"\n",
    "\n",
    "![Alt Text](Problem2.png)"
   ]
  },
  {
   "cell_type": "markdown",
   "id": "5504836c-c747-4e8d-a70d-dc1a196e6cd9",
   "metadata": {},
   "source": [
    "Problem 3\n",
    "\n",
    "a.) Rosenbrock function is being implemented and tested on Anvil for N=4294967296 and #of thread=4\n",
    "\n",
    "![Alt Text](rosenbrock_3_a.png)\n",
    "\n",
    "b)\n",
    "\n",
    "Method 1 with sum as atomic\n",
    "\n",
    "Strong and weak scaling test is being performed with sum as atomic. But couldn't able to achieve the desired speedup. It can be seen from the graph that, with the increase of cores time also increases.\n",
    "\n",
    "![Atomic Strong](atomic_strong.png)\n",
    "![Weak Atomic](weak_atomic.png)\n",
    "\n",
    "\n",
    "\n",
    "Method 2 with the usage of reduction for sum\n",
    "\n",
    "Since the sum is shared among threads, so apart from using atomic and critical to achieve this, we can also use reductions.\n",
    "By using reductions all the threads declare a private variable and then perform reduction over all threads private variables.\n",
    "\n",
    "\n",
    "As we can see that desired speedup is achieved by using reduction for sum, For the case of strong scaling.\n",
    "\n",
    "\n",
    "![Reduction Strong](reduction_strong.png)\n",
    "\n",
    "\n",
    "c.)After running code on anvil with 17 billion points below is the loglog graph that is obtained.We can see that after certain point of N the integral value is coming to constant.The data file obtained could be found in file \"3c_anvil_data.dat\" inside data folder\n",
    "\n",
    "\n",
    "![problem3c](problem3c.png)\n",
    "\n"
   ]
  },
  {
   "cell_type": "markdown",
   "id": "d48695bc-47b9-44a1-b2d3-960279ca6cbb",
   "metadata": {},
   "source": [
    "The code for probelm 3 could be found in file \"rosenbrock.c\""
   ]
  },
  {
   "attachments": {},
   "cell_type": "markdown",
   "id": "c16ee5a8-4886-494d-9bbd-ef4775438ebf",
   "metadata": {},
   "source": [
    "Bonus Questions\n",
    "\n",
    "a.)Running the serial code with different values of N and calculating the error by saving the previous integral for every  4^k value. Below is the result obtained.\n",
    "![Alt Text](bonus_a.png)\n",
    "\n",
    "code file->\"bonusMonteCarlo10.c\"\n",
    "\n",
    "b.)Plotting the graph for Actual error and estimated error. Below is the graph obtained\n",
    "\n",
    "\n",
    "![Alt Text](Actual.png)\n",
    "![Alt Text](Estimated.png)\n",
    "\n",
    "data file is in \"./data/bonus_b_acutualerror_esterror\"\n",
    "The code of graph could be found in \"graphs.ipynb\"\n",
    "\n",
    "\n",
    "c.)After running \"monteCarlo10dOpenMP.c\" code below is the result obtained\n",
    "\n",
    "- N=4 Integral=1.918e+03 actual_estimate=8.939e+02 estimated_error=2.018e+03\n",
    "- N=16 Integral=1.307e+03 actual_estimate=2.833e+02 estimated_error=6.105e+02\n",
    "- N=64 Integral=8.908e+02 actual_estimate=1.332e+02 estimated_error=4.166e+02\n",
    "- N=256 Integral=1.030e+03 actual_estimate=6.329e+00 estimated_error=1.396e+02\n",
    "- N=1024 Integral=9.486e+02 actual_estimate=7.535e+01 estimated_error=8.168e+01\n",
    "- N=4096 Integral=1.035e+03 actual_estimate=1.111e+01 estimated_error=8.646e+01\n",
    "- N=16384 Integral=1.040e+03 actual_estimate=1.627e+01 estimated_error=5.158e+00\n",
    "- N=65536 Integral=1.027e+03 actual_estimate=3.232e+00 estimated_error=1.304e+01\n",
    "- N=262144 Integral=1.028e+03 actual_estimate=3.661e+00 estimated_error=4.282e-01\n",
    "- N=1048576 Integral=1.026e+03 actual_estimate=2.338e+00 estimated_error=1.322e+00\n",
    "- N=4194304 Integral=1.024e+03 actual_estimate=1.259e-01 estimated_error=2.464e+00\n",
    "- N=16777216 Integral=1.024e+03 actual_estimate=4.923e-01 estimated_error=6.182e-01\n",
    "- N=67108864 Integral=1.024e+03 actual_estimate=3.513e-01 estimated_error=8.437e-01\n",
    "- N=268435456 Integral=1.024e+03 actual_estimate=5.651e-02 estimated_error=4.078e-01\n",
    "- N=1073741824 Integral=1.024e+03 actual_estimate=2.741e-03 estimated_error=5.925e-02\n"
   ]
  },
  {
   "cell_type": "code",
   "execution_count": null,
   "id": "d958177e-868a-4e54-9c77-8b499cb77f9c",
   "metadata": {},
   "outputs": [],
   "source": []
  }
 ],
 "metadata": {
  "kernelspec": {
   "display_name": "Python 3 (ipykernel)",
   "language": "python",
   "name": "python3"
  },
  "language_info": {
   "codemirror_mode": {
    "name": "ipython",
    "version": 3
   },
   "file_extension": ".py",
   "mimetype": "text/x-python",
   "name": "python",
   "nbconvert_exporter": "python",
   "pygments_lexer": "ipython3",
   "version": "3.11.5"
  }
 },
 "nbformat": 4,
 "nbformat_minor": 5
}
